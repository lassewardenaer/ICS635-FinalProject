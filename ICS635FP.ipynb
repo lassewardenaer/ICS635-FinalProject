{
  "nbformat": 4,
  "nbformat_minor": 0,
  "metadata": {
    "colab": {
      "name": "ICS635FP",
      "provenance": [],
      "collapsed_sections": [],
      "machine_shape": "hm",
      "mount_file_id": "16a4LpVywIAdOxp6iDykoxK2TIdwcVLUT",
      "authorship_tag": "ABX9TyOHicc77P3KrXIdTFI5bd4k",
      "include_colab_link": true
    },
    "kernelspec": {
      "name": "python3",
      "display_name": "Python 3"
    },
    "language_info": {
      "name": "python"
    },
    "accelerator": "TPU"
  },
  "cells": [
    {
      "cell_type": "markdown",
      "metadata": {
        "id": "view-in-github",
        "colab_type": "text"
      },
      "source": [
        "<a href=\"https://colab.research.google.com/github/lassewardenaer/ICS635-FinalProject/blob/main/ICS635FP.ipynb\" target=\"_parent\"><img src=\"https://colab.research.google.com/assets/colab-badge.svg\" alt=\"Open In Colab\"/></a>"
      ]
    },
    {
      "cell_type": "code",
      "execution_count": 1,
      "metadata": {
        "colab": {
          "base_uri": "https://localhost:8080/"
        },
        "id": "89RQ2fhOMoKp",
        "outputId": "75b33827-ff43-473f-a4ab-ade1f59cee0a"
      },
      "outputs": [
        {
          "output_type": "stream",
          "name": "stdout",
          "text": [
            "Downloading...\n",
            "From: https://drive.google.com/uc?id=1HCVzDLZfh4Bg2-zZl9NG2IsO4OhsK3dn\n",
            "To: /content/reviewdata.csv\n",
            "100% 11.8M/11.8M [00:00<00:00, 98.9MB/s]\n",
            "Downloading...\n",
            "From: https://drive.google.com/uc?id=1BQoNrroTwOgH5oq1-uOpcXH4DnvBK0Pj\n",
            "To: /content/preprocessing.py\n",
            "100% 366/366 [00:00<00:00, 633kB/s]\n"
          ]
        }
      ],
      "source": [
        "!gdown 1HCVzDLZfh4Bg2-zZl9NG2IsO4OhsK3dn\n",
        "!gdown 1BQoNrroTwOgH5oq1-uOpcXH4DnvBK0Pj"
      ]
    },
    {
      "cell_type": "code",
      "source": [
        "import pandas as pd\n",
        "import tensorflow as tf\n",
        "import numpy as np\n",
        "\n",
        "data = pd.read_csv('./reviewdata.csv')\n",
        "\n",
        "data = data.drop(['Unique_ID', 'Category', 'Review_Header', 'Rating'], axis=1)\n",
        "data = data.replace({'Own_Rating':{'Positive':1}})\n",
        "data = data.replace({'Own_Rating':{'Neutral':0}})\n",
        "data = data.replace({'Own_Rating':{'Negative':-1}})\n",
        "data.to_csv('preprocessed_reviewdata.csv', index=False)\n",
        "\n",
        "data.head()"
      ],
      "metadata": {
        "colab": {
          "base_uri": "https://localhost:8080/",
          "height": 206
        },
        "id": "LWTze6lmNAjy",
        "outputId": "bf49eede-546c-4df1-9de6-3332260f610d"
      },
      "execution_count": 2,
      "outputs": [
        {
          "output_type": "execute_result",
          "data": {
            "text/plain": [
              "                                         Review_text  Own_Rating\n",
              "0                                         I liked it           1\n",
              "1  I bought the phone on Amazon and been using my...           1\n",
              "2  Awesome book at reasonable price, must buy ......           1\n",
              "3                                               good           1\n",
              "4  The book is fine,not bad,contains nice concept...           0"
            ],
            "text/html": [
              "\n",
              "  <div id=\"df-854c5ff1-d217-4545-938b-9ecda35bce59\">\n",
              "    <div class=\"colab-df-container\">\n",
              "      <div>\n",
              "<style scoped>\n",
              "    .dataframe tbody tr th:only-of-type {\n",
              "        vertical-align: middle;\n",
              "    }\n",
              "\n",
              "    .dataframe tbody tr th {\n",
              "        vertical-align: top;\n",
              "    }\n",
              "\n",
              "    .dataframe thead th {\n",
              "        text-align: right;\n",
              "    }\n",
              "</style>\n",
              "<table border=\"1\" class=\"dataframe\">\n",
              "  <thead>\n",
              "    <tr style=\"text-align: right;\">\n",
              "      <th></th>\n",
              "      <th>Review_text</th>\n",
              "      <th>Own_Rating</th>\n",
              "    </tr>\n",
              "  </thead>\n",
              "  <tbody>\n",
              "    <tr>\n",
              "      <th>0</th>\n",
              "      <td>I liked it</td>\n",
              "      <td>1</td>\n",
              "    </tr>\n",
              "    <tr>\n",
              "      <th>1</th>\n",
              "      <td>I bought the phone on Amazon and been using my...</td>\n",
              "      <td>1</td>\n",
              "    </tr>\n",
              "    <tr>\n",
              "      <th>2</th>\n",
              "      <td>Awesome book at reasonable price, must buy ......</td>\n",
              "      <td>1</td>\n",
              "    </tr>\n",
              "    <tr>\n",
              "      <th>3</th>\n",
              "      <td>good</td>\n",
              "      <td>1</td>\n",
              "    </tr>\n",
              "    <tr>\n",
              "      <th>4</th>\n",
              "      <td>The book is fine,not bad,contains nice concept...</td>\n",
              "      <td>0</td>\n",
              "    </tr>\n",
              "  </tbody>\n",
              "</table>\n",
              "</div>\n",
              "      <button class=\"colab-df-convert\" onclick=\"convertToInteractive('df-854c5ff1-d217-4545-938b-9ecda35bce59')\"\n",
              "              title=\"Convert this dataframe to an interactive table.\"\n",
              "              style=\"display:none;\">\n",
              "        \n",
              "  <svg xmlns=\"http://www.w3.org/2000/svg\" height=\"24px\"viewBox=\"0 0 24 24\"\n",
              "       width=\"24px\">\n",
              "    <path d=\"M0 0h24v24H0V0z\" fill=\"none\"/>\n",
              "    <path d=\"M18.56 5.44l.94 2.06.94-2.06 2.06-.94-2.06-.94-.94-2.06-.94 2.06-2.06.94zm-11 1L8.5 8.5l.94-2.06 2.06-.94-2.06-.94L8.5 2.5l-.94 2.06-2.06.94zm10 10l.94 2.06.94-2.06 2.06-.94-2.06-.94-.94-2.06-.94 2.06-2.06.94z\"/><path d=\"M17.41 7.96l-1.37-1.37c-.4-.4-.92-.59-1.43-.59-.52 0-1.04.2-1.43.59L10.3 9.45l-7.72 7.72c-.78.78-.78 2.05 0 2.83L4 21.41c.39.39.9.59 1.41.59.51 0 1.02-.2 1.41-.59l7.78-7.78 2.81-2.81c.8-.78.8-2.07 0-2.86zM5.41 20L4 18.59l7.72-7.72 1.47 1.35L5.41 20z\"/>\n",
              "  </svg>\n",
              "      </button>\n",
              "      \n",
              "  <style>\n",
              "    .colab-df-container {\n",
              "      display:flex;\n",
              "      flex-wrap:wrap;\n",
              "      gap: 12px;\n",
              "    }\n",
              "\n",
              "    .colab-df-convert {\n",
              "      background-color: #E8F0FE;\n",
              "      border: none;\n",
              "      border-radius: 50%;\n",
              "      cursor: pointer;\n",
              "      display: none;\n",
              "      fill: #1967D2;\n",
              "      height: 32px;\n",
              "      padding: 0 0 0 0;\n",
              "      width: 32px;\n",
              "    }\n",
              "\n",
              "    .colab-df-convert:hover {\n",
              "      background-color: #E2EBFA;\n",
              "      box-shadow: 0px 1px 2px rgba(60, 64, 67, 0.3), 0px 1px 3px 1px rgba(60, 64, 67, 0.15);\n",
              "      fill: #174EA6;\n",
              "    }\n",
              "\n",
              "    [theme=dark] .colab-df-convert {\n",
              "      background-color: #3B4455;\n",
              "      fill: #D2E3FC;\n",
              "    }\n",
              "\n",
              "    [theme=dark] .colab-df-convert:hover {\n",
              "      background-color: #434B5C;\n",
              "      box-shadow: 0px 1px 3px 1px rgba(0, 0, 0, 0.15);\n",
              "      filter: drop-shadow(0px 1px 2px rgba(0, 0, 0, 0.3));\n",
              "      fill: #FFFFFF;\n",
              "    }\n",
              "  </style>\n",
              "\n",
              "      <script>\n",
              "        const buttonEl =\n",
              "          document.querySelector('#df-854c5ff1-d217-4545-938b-9ecda35bce59 button.colab-df-convert');\n",
              "        buttonEl.style.display =\n",
              "          google.colab.kernel.accessAllowed ? 'block' : 'none';\n",
              "\n",
              "        async function convertToInteractive(key) {\n",
              "          const element = document.querySelector('#df-854c5ff1-d217-4545-938b-9ecda35bce59');\n",
              "          const dataTable =\n",
              "            await google.colab.kernel.invokeFunction('convertToInteractive',\n",
              "                                                     [key], {});\n",
              "          if (!dataTable) return;\n",
              "\n",
              "          const docLinkHtml = 'Like what you see? Visit the ' +\n",
              "            '<a target=\"_blank\" href=https://colab.research.google.com/notebooks/data_table.ipynb>data table notebook</a>'\n",
              "            + ' to learn more about interactive tables.';\n",
              "          element.innerHTML = '';\n",
              "          dataTable['output_type'] = 'display_data';\n",
              "          await google.colab.output.renderOutput(dataTable, element);\n",
              "          const docLink = document.createElement('div');\n",
              "          docLink.innerHTML = docLinkHtml;\n",
              "          element.appendChild(docLink);\n",
              "        }\n",
              "      </script>\n",
              "    </div>\n",
              "  </div>\n",
              "  "
            ]
          },
          "metadata": {},
          "execution_count": 2
        }
      ]
    },
    {
      "cell_type": "code",
      "source": [
        "data = pd.read_csv('./preprocessed_reviewdata.csv')\n",
        "print(data.shape)\n",
        "\n",
        "data.head()"
      ],
      "metadata": {
        "id": "0uJOnlEVC2r6",
        "colab": {
          "base_uri": "https://localhost:8080/",
          "height": 224
        },
        "outputId": "0896b7d4-3223-4ffa-80cd-c1518e079556"
      },
      "execution_count": 3,
      "outputs": [
        {
          "output_type": "stream",
          "name": "stdout",
          "text": [
            "(60889, 2)\n"
          ]
        },
        {
          "output_type": "execute_result",
          "data": {
            "text/plain": [
              "                                         Review_text  Own_Rating\n",
              "0                                         I liked it           1\n",
              "1  I bought the phone on Amazon and been using my...           1\n",
              "2  Awesome book at reasonable price, must buy ......           1\n",
              "3                                               good           1\n",
              "4  The book is fine,not bad,contains nice concept...           0"
            ],
            "text/html": [
              "\n",
              "  <div id=\"df-67468b6d-7da0-4117-915a-b13ce505cb53\">\n",
              "    <div class=\"colab-df-container\">\n",
              "      <div>\n",
              "<style scoped>\n",
              "    .dataframe tbody tr th:only-of-type {\n",
              "        vertical-align: middle;\n",
              "    }\n",
              "\n",
              "    .dataframe tbody tr th {\n",
              "        vertical-align: top;\n",
              "    }\n",
              "\n",
              "    .dataframe thead th {\n",
              "        text-align: right;\n",
              "    }\n",
              "</style>\n",
              "<table border=\"1\" class=\"dataframe\">\n",
              "  <thead>\n",
              "    <tr style=\"text-align: right;\">\n",
              "      <th></th>\n",
              "      <th>Review_text</th>\n",
              "      <th>Own_Rating</th>\n",
              "    </tr>\n",
              "  </thead>\n",
              "  <tbody>\n",
              "    <tr>\n",
              "      <th>0</th>\n",
              "      <td>I liked it</td>\n",
              "      <td>1</td>\n",
              "    </tr>\n",
              "    <tr>\n",
              "      <th>1</th>\n",
              "      <td>I bought the phone on Amazon and been using my...</td>\n",
              "      <td>1</td>\n",
              "    </tr>\n",
              "    <tr>\n",
              "      <th>2</th>\n",
              "      <td>Awesome book at reasonable price, must buy ......</td>\n",
              "      <td>1</td>\n",
              "    </tr>\n",
              "    <tr>\n",
              "      <th>3</th>\n",
              "      <td>good</td>\n",
              "      <td>1</td>\n",
              "    </tr>\n",
              "    <tr>\n",
              "      <th>4</th>\n",
              "      <td>The book is fine,not bad,contains nice concept...</td>\n",
              "      <td>0</td>\n",
              "    </tr>\n",
              "  </tbody>\n",
              "</table>\n",
              "</div>\n",
              "      <button class=\"colab-df-convert\" onclick=\"convertToInteractive('df-67468b6d-7da0-4117-915a-b13ce505cb53')\"\n",
              "              title=\"Convert this dataframe to an interactive table.\"\n",
              "              style=\"display:none;\">\n",
              "        \n",
              "  <svg xmlns=\"http://www.w3.org/2000/svg\" height=\"24px\"viewBox=\"0 0 24 24\"\n",
              "       width=\"24px\">\n",
              "    <path d=\"M0 0h24v24H0V0z\" fill=\"none\"/>\n",
              "    <path d=\"M18.56 5.44l.94 2.06.94-2.06 2.06-.94-2.06-.94-.94-2.06-.94 2.06-2.06.94zm-11 1L8.5 8.5l.94-2.06 2.06-.94-2.06-.94L8.5 2.5l-.94 2.06-2.06.94zm10 10l.94 2.06.94-2.06 2.06-.94-2.06-.94-.94-2.06-.94 2.06-2.06.94z\"/><path d=\"M17.41 7.96l-1.37-1.37c-.4-.4-.92-.59-1.43-.59-.52 0-1.04.2-1.43.59L10.3 9.45l-7.72 7.72c-.78.78-.78 2.05 0 2.83L4 21.41c.39.39.9.59 1.41.59.51 0 1.02-.2 1.41-.59l7.78-7.78 2.81-2.81c.8-.78.8-2.07 0-2.86zM5.41 20L4 18.59l7.72-7.72 1.47 1.35L5.41 20z\"/>\n",
              "  </svg>\n",
              "      </button>\n",
              "      \n",
              "  <style>\n",
              "    .colab-df-container {\n",
              "      display:flex;\n",
              "      flex-wrap:wrap;\n",
              "      gap: 12px;\n",
              "    }\n",
              "\n",
              "    .colab-df-convert {\n",
              "      background-color: #E8F0FE;\n",
              "      border: none;\n",
              "      border-radius: 50%;\n",
              "      cursor: pointer;\n",
              "      display: none;\n",
              "      fill: #1967D2;\n",
              "      height: 32px;\n",
              "      padding: 0 0 0 0;\n",
              "      width: 32px;\n",
              "    }\n",
              "\n",
              "    .colab-df-convert:hover {\n",
              "      background-color: #E2EBFA;\n",
              "      box-shadow: 0px 1px 2px rgba(60, 64, 67, 0.3), 0px 1px 3px 1px rgba(60, 64, 67, 0.15);\n",
              "      fill: #174EA6;\n",
              "    }\n",
              "\n",
              "    [theme=dark] .colab-df-convert {\n",
              "      background-color: #3B4455;\n",
              "      fill: #D2E3FC;\n",
              "    }\n",
              "\n",
              "    [theme=dark] .colab-df-convert:hover {\n",
              "      background-color: #434B5C;\n",
              "      box-shadow: 0px 1px 3px 1px rgba(0, 0, 0, 0.15);\n",
              "      filter: drop-shadow(0px 1px 2px rgba(0, 0, 0, 0.3));\n",
              "      fill: #FFFFFF;\n",
              "    }\n",
              "  </style>\n",
              "\n",
              "      <script>\n",
              "        const buttonEl =\n",
              "          document.querySelector('#df-67468b6d-7da0-4117-915a-b13ce505cb53 button.colab-df-convert');\n",
              "        buttonEl.style.display =\n",
              "          google.colab.kernel.accessAllowed ? 'block' : 'none';\n",
              "\n",
              "        async function convertToInteractive(key) {\n",
              "          const element = document.querySelector('#df-67468b6d-7da0-4117-915a-b13ce505cb53');\n",
              "          const dataTable =\n",
              "            await google.colab.kernel.invokeFunction('convertToInteractive',\n",
              "                                                     [key], {});\n",
              "          if (!dataTable) return;\n",
              "\n",
              "          const docLinkHtml = 'Like what you see? Visit the ' +\n",
              "            '<a target=\"_blank\" href=https://colab.research.google.com/notebooks/data_table.ipynb>data table notebook</a>'\n",
              "            + ' to learn more about interactive tables.';\n",
              "          element.innerHTML = '';\n",
              "          dataTable['output_type'] = 'display_data';\n",
              "          await google.colab.output.renderOutput(dataTable, element);\n",
              "          const docLink = document.createElement('div');\n",
              "          docLink.innerHTML = docLinkHtml;\n",
              "          element.appendChild(docLink);\n",
              "        }\n",
              "      </script>\n",
              "    </div>\n",
              "  </div>\n",
              "  "
            ]
          },
          "metadata": {},
          "execution_count": 3
        }
      ]
    },
    {
      "cell_type": "code",
      "source": [
        "# https://www.youtube.com/watch?v=hOCDJyZ6quA&t=527s&ab_channel=codebasics\n",
        "\n",
        "# Check how balanced the training data is\n",
        "data.value_counts(['Own_Rating']) "
      ],
      "metadata": {
        "id": "OswT9fy0POua",
        "colab": {
          "base_uri": "https://localhost:8080/"
        },
        "outputId": "a95d2d4e-be4e-418e-bd0f-b71da5dd663a"
      },
      "execution_count": 4,
      "outputs": [
        {
          "output_type": "execute_result",
          "data": {
            "text/plain": [
              "Own_Rating\n",
              " 1            47436\n",
              "-1             9087\n",
              " 0             4366\n",
              "dtype: int64"
            ]
          },
          "metadata": {},
          "execution_count": 4
        }
      ]
    },
    {
      "cell_type": "code",
      "source": [
        "# Balance data\n",
        "positive_samples = data[data['Own_Rating']==1]\n",
        "negative_samples = data[data['Own_Rating']==-1]\n",
        "neutral_samples = data[data['Own_Rating']==0]\n",
        "\n",
        "positive_samples = positive_samples.sample(neutral_samples.shape[0])\n",
        "negative_samples = negative_samples.sample(neutral_samples.shape[0])\n",
        "\n",
        "downsampled_data = pd.concat([positive_samples, negative_samples, neutral_samples])\n",
        "downsampled_data.value_counts(['Own_Rating']) "
      ],
      "metadata": {
        "colab": {
          "base_uri": "https://localhost:8080/"
        },
        "id": "10RuZxvKzHP-",
        "outputId": "6d825e31-dffd-407d-f912-52a154a58694"
      },
      "execution_count": 5,
      "outputs": [
        {
          "output_type": "execute_result",
          "data": {
            "text/plain": [
              "Own_Rating\n",
              "-1            4366\n",
              " 0            4366\n",
              " 1            4366\n",
              "dtype: int64"
            ]
          },
          "metadata": {},
          "execution_count": 5
        }
      ]
    },
    {
      "cell_type": "code",
      "source": [
        "print(downsampled_data.shape)"
      ],
      "metadata": {
        "colab": {
          "base_uri": "https://localhost:8080/"
        },
        "id": "RZ3CekqiQkhi",
        "outputId": "9287ec9c-a1da-4d54-e456-fb5361bfee99"
      },
      "execution_count": 6,
      "outputs": [
        {
          "output_type": "stream",
          "name": "stdout",
          "text": [
            "(13098, 2)\n"
          ]
        }
      ]
    },
    {
      "cell_type": "code",
      "source": [
        "# https://www.youtube.com/watch?v=kxeyoyrf2cM&t=1066s&ab_channel=PythonEngineer\n",
        "# https://www.tensorflow.org/text/guide/word_embeddings\n",
        "\n",
        "import re\n",
        "import string\n",
        "\n",
        "def remove_none_important_data(text):\n",
        "  translator = str.maketrans(\"\", \"\", string.punctuation)\n",
        "  return text.translate(translator)\n",
        "\n",
        "downsampled_data = downsampled_data.fillna({'Review_text':' '})\n",
        "downsampled_data['Review_text'] = downsampled_data['Review_text'].astype(str)\n",
        "downsampled_data['Review_text'] = downsampled_data.Review_text.map(remove_none_important_data)\n",
        "downsampled_data.head()"
      ],
      "metadata": {
        "colab": {
          "base_uri": "https://localhost:8080/",
          "height": 206
        },
        "id": "owP6J1rbN5aN",
        "outputId": "91a27137-141c-4ab8-980f-1ae39db48610"
      },
      "execution_count": 7,
      "outputs": [
        {
          "output_type": "execute_result",
          "data": {
            "text/plain": [
              "                                             Review_text  Own_Rating\n",
              "22159                     One of the best self help book           1\n",
              "34129  5 star for Huawei and only 3 stars for amazon ...           1\n",
              "3141                                       Its very good           1\n",
              "44506                                            Mst hai           1\n",
              "54139                             Installations side bad           1"
            ],
            "text/html": [
              "\n",
              "  <div id=\"df-8bd85e31-86af-42ea-ad6d-f29fdf61c980\">\n",
              "    <div class=\"colab-df-container\">\n",
              "      <div>\n",
              "<style scoped>\n",
              "    .dataframe tbody tr th:only-of-type {\n",
              "        vertical-align: middle;\n",
              "    }\n",
              "\n",
              "    .dataframe tbody tr th {\n",
              "        vertical-align: top;\n",
              "    }\n",
              "\n",
              "    .dataframe thead th {\n",
              "        text-align: right;\n",
              "    }\n",
              "</style>\n",
              "<table border=\"1\" class=\"dataframe\">\n",
              "  <thead>\n",
              "    <tr style=\"text-align: right;\">\n",
              "      <th></th>\n",
              "      <th>Review_text</th>\n",
              "      <th>Own_Rating</th>\n",
              "    </tr>\n",
              "  </thead>\n",
              "  <tbody>\n",
              "    <tr>\n",
              "      <th>22159</th>\n",
              "      <td>One of the best self help book</td>\n",
              "      <td>1</td>\n",
              "    </tr>\n",
              "    <tr>\n",
              "      <th>34129</th>\n",
              "      <td>5 star for Huawei and only 3 stars for amazon ...</td>\n",
              "      <td>1</td>\n",
              "    </tr>\n",
              "    <tr>\n",
              "      <th>3141</th>\n",
              "      <td>Its very good</td>\n",
              "      <td>1</td>\n",
              "    </tr>\n",
              "    <tr>\n",
              "      <th>44506</th>\n",
              "      <td>Mst hai</td>\n",
              "      <td>1</td>\n",
              "    </tr>\n",
              "    <tr>\n",
              "      <th>54139</th>\n",
              "      <td>Installations side bad</td>\n",
              "      <td>1</td>\n",
              "    </tr>\n",
              "  </tbody>\n",
              "</table>\n",
              "</div>\n",
              "      <button class=\"colab-df-convert\" onclick=\"convertToInteractive('df-8bd85e31-86af-42ea-ad6d-f29fdf61c980')\"\n",
              "              title=\"Convert this dataframe to an interactive table.\"\n",
              "              style=\"display:none;\">\n",
              "        \n",
              "  <svg xmlns=\"http://www.w3.org/2000/svg\" height=\"24px\"viewBox=\"0 0 24 24\"\n",
              "       width=\"24px\">\n",
              "    <path d=\"M0 0h24v24H0V0z\" fill=\"none\"/>\n",
              "    <path d=\"M18.56 5.44l.94 2.06.94-2.06 2.06-.94-2.06-.94-.94-2.06-.94 2.06-2.06.94zm-11 1L8.5 8.5l.94-2.06 2.06-.94-2.06-.94L8.5 2.5l-.94 2.06-2.06.94zm10 10l.94 2.06.94-2.06 2.06-.94-2.06-.94-.94-2.06-.94 2.06-2.06.94z\"/><path d=\"M17.41 7.96l-1.37-1.37c-.4-.4-.92-.59-1.43-.59-.52 0-1.04.2-1.43.59L10.3 9.45l-7.72 7.72c-.78.78-.78 2.05 0 2.83L4 21.41c.39.39.9.59 1.41.59.51 0 1.02-.2 1.41-.59l7.78-7.78 2.81-2.81c.8-.78.8-2.07 0-2.86zM5.41 20L4 18.59l7.72-7.72 1.47 1.35L5.41 20z\"/>\n",
              "  </svg>\n",
              "      </button>\n",
              "      \n",
              "  <style>\n",
              "    .colab-df-container {\n",
              "      display:flex;\n",
              "      flex-wrap:wrap;\n",
              "      gap: 12px;\n",
              "    }\n",
              "\n",
              "    .colab-df-convert {\n",
              "      background-color: #E8F0FE;\n",
              "      border: none;\n",
              "      border-radius: 50%;\n",
              "      cursor: pointer;\n",
              "      display: none;\n",
              "      fill: #1967D2;\n",
              "      height: 32px;\n",
              "      padding: 0 0 0 0;\n",
              "      width: 32px;\n",
              "    }\n",
              "\n",
              "    .colab-df-convert:hover {\n",
              "      background-color: #E2EBFA;\n",
              "      box-shadow: 0px 1px 2px rgba(60, 64, 67, 0.3), 0px 1px 3px 1px rgba(60, 64, 67, 0.15);\n",
              "      fill: #174EA6;\n",
              "    }\n",
              "\n",
              "    [theme=dark] .colab-df-convert {\n",
              "      background-color: #3B4455;\n",
              "      fill: #D2E3FC;\n",
              "    }\n",
              "\n",
              "    [theme=dark] .colab-df-convert:hover {\n",
              "      background-color: #434B5C;\n",
              "      box-shadow: 0px 1px 3px 1px rgba(0, 0, 0, 0.15);\n",
              "      filter: drop-shadow(0px 1px 2px rgba(0, 0, 0, 0.3));\n",
              "      fill: #FFFFFF;\n",
              "    }\n",
              "  </style>\n",
              "\n",
              "      <script>\n",
              "        const buttonEl =\n",
              "          document.querySelector('#df-8bd85e31-86af-42ea-ad6d-f29fdf61c980 button.colab-df-convert');\n",
              "        buttonEl.style.display =\n",
              "          google.colab.kernel.accessAllowed ? 'block' : 'none';\n",
              "\n",
              "        async function convertToInteractive(key) {\n",
              "          const element = document.querySelector('#df-8bd85e31-86af-42ea-ad6d-f29fdf61c980');\n",
              "          const dataTable =\n",
              "            await google.colab.kernel.invokeFunction('convertToInteractive',\n",
              "                                                     [key], {});\n",
              "          if (!dataTable) return;\n",
              "\n",
              "          const docLinkHtml = 'Like what you see? Visit the ' +\n",
              "            '<a target=\"_blank\" href=https://colab.research.google.com/notebooks/data_table.ipynb>data table notebook</a>'\n",
              "            + ' to learn more about interactive tables.';\n",
              "          element.innerHTML = '';\n",
              "          dataTable['output_type'] = 'display_data';\n",
              "          await google.colab.output.renderOutput(dataTable, element);\n",
              "          const docLink = document.createElement('div');\n",
              "          docLink.innerHTML = docLinkHtml;\n",
              "          element.appendChild(docLink);\n",
              "        }\n",
              "      </script>\n",
              "    </div>\n",
              "  </div>\n",
              "  "
            ]
          },
          "metadata": {},
          "execution_count": 7
        }
      ]
    },
    {
      "cell_type": "code",
      "source": [
        "!pip install nltk"
      ],
      "metadata": {
        "colab": {
          "base_uri": "https://localhost:8080/"
        },
        "id": "LwyBAAGpUShz",
        "outputId": "a9682fdf-4183-44ff-8675-f2b29709e662"
      },
      "execution_count": 8,
      "outputs": [
        {
          "output_type": "stream",
          "name": "stdout",
          "text": [
            "Requirement already satisfied: nltk in /usr/local/lib/python3.7/dist-packages (3.2.5)\n",
            "Requirement already satisfied: six in /usr/local/lib/python3.7/dist-packages (from nltk) (1.15.0)\n"
          ]
        }
      ]
    },
    {
      "cell_type": "code",
      "source": [
        "# Remove stop words - words that give little information\n",
        "# https://pythonspot.com/nltk-stop-words/\n",
        "\n",
        "import nltk \n",
        "nltk.download('stopwords')\n",
        "from nltk.corpus import stopwords\n",
        "\n",
        "stop_specified = set(stopwords.words('english'))\n",
        "\n",
        "def clean_stop_words(text):\n",
        "  words = [word.lower() for word in text.split() if word.lower() not in stop_specified]\n",
        "  return \" \".join(words)"
      ],
      "metadata": {
        "colab": {
          "base_uri": "https://localhost:8080/"
        },
        "id": "J9pztodCSEeJ",
        "outputId": "df34c338-87e5-4c92-bf1c-432d035af66b"
      },
      "execution_count": 9,
      "outputs": [
        {
          "output_type": "stream",
          "name": "stdout",
          "text": [
            "[nltk_data] Downloading package stopwords to /root/nltk_data...\n",
            "[nltk_data]   Unzipping corpora/stopwords.zip.\n"
          ]
        }
      ]
    },
    {
      "cell_type": "code",
      "source": [
        "downsampled_data['Review_text'] = downsampled_data.Review_text.map(clean_stop_words)\n",
        "downsampled_data.head()"
      ],
      "metadata": {
        "colab": {
          "base_uri": "https://localhost:8080/",
          "height": 206
        },
        "id": "odytLXbtV4-t",
        "outputId": "18a5c595-90d0-4a60-ef35-df7ff26247aa"
      },
      "execution_count": 10,
      "outputs": [
        {
          "output_type": "execute_result",
          "data": {
            "text/plain": [
              "                                            Review_text  Own_Rating\n",
              "22159                           one best self help book           1\n",
              "34129  5 star huawei 3 stars amazon including earphones           1\n",
              "3141                                               good           1\n",
              "44506                                           mst hai           1\n",
              "54139                            installations side bad           1"
            ],
            "text/html": [
              "\n",
              "  <div id=\"df-c2345af7-83f9-4db0-b39f-becb85ed94fc\">\n",
              "    <div class=\"colab-df-container\">\n",
              "      <div>\n",
              "<style scoped>\n",
              "    .dataframe tbody tr th:only-of-type {\n",
              "        vertical-align: middle;\n",
              "    }\n",
              "\n",
              "    .dataframe tbody tr th {\n",
              "        vertical-align: top;\n",
              "    }\n",
              "\n",
              "    .dataframe thead th {\n",
              "        text-align: right;\n",
              "    }\n",
              "</style>\n",
              "<table border=\"1\" class=\"dataframe\">\n",
              "  <thead>\n",
              "    <tr style=\"text-align: right;\">\n",
              "      <th></th>\n",
              "      <th>Review_text</th>\n",
              "      <th>Own_Rating</th>\n",
              "    </tr>\n",
              "  </thead>\n",
              "  <tbody>\n",
              "    <tr>\n",
              "      <th>22159</th>\n",
              "      <td>one best self help book</td>\n",
              "      <td>1</td>\n",
              "    </tr>\n",
              "    <tr>\n",
              "      <th>34129</th>\n",
              "      <td>5 star huawei 3 stars amazon including earphones</td>\n",
              "      <td>1</td>\n",
              "    </tr>\n",
              "    <tr>\n",
              "      <th>3141</th>\n",
              "      <td>good</td>\n",
              "      <td>1</td>\n",
              "    </tr>\n",
              "    <tr>\n",
              "      <th>44506</th>\n",
              "      <td>mst hai</td>\n",
              "      <td>1</td>\n",
              "    </tr>\n",
              "    <tr>\n",
              "      <th>54139</th>\n",
              "      <td>installations side bad</td>\n",
              "      <td>1</td>\n",
              "    </tr>\n",
              "  </tbody>\n",
              "</table>\n",
              "</div>\n",
              "      <button class=\"colab-df-convert\" onclick=\"convertToInteractive('df-c2345af7-83f9-4db0-b39f-becb85ed94fc')\"\n",
              "              title=\"Convert this dataframe to an interactive table.\"\n",
              "              style=\"display:none;\">\n",
              "        \n",
              "  <svg xmlns=\"http://www.w3.org/2000/svg\" height=\"24px\"viewBox=\"0 0 24 24\"\n",
              "       width=\"24px\">\n",
              "    <path d=\"M0 0h24v24H0V0z\" fill=\"none\"/>\n",
              "    <path d=\"M18.56 5.44l.94 2.06.94-2.06 2.06-.94-2.06-.94-.94-2.06-.94 2.06-2.06.94zm-11 1L8.5 8.5l.94-2.06 2.06-.94-2.06-.94L8.5 2.5l-.94 2.06-2.06.94zm10 10l.94 2.06.94-2.06 2.06-.94-2.06-.94-.94-2.06-.94 2.06-2.06.94z\"/><path d=\"M17.41 7.96l-1.37-1.37c-.4-.4-.92-.59-1.43-.59-.52 0-1.04.2-1.43.59L10.3 9.45l-7.72 7.72c-.78.78-.78 2.05 0 2.83L4 21.41c.39.39.9.59 1.41.59.51 0 1.02-.2 1.41-.59l7.78-7.78 2.81-2.81c.8-.78.8-2.07 0-2.86zM5.41 20L4 18.59l7.72-7.72 1.47 1.35L5.41 20z\"/>\n",
              "  </svg>\n",
              "      </button>\n",
              "      \n",
              "  <style>\n",
              "    .colab-df-container {\n",
              "      display:flex;\n",
              "      flex-wrap:wrap;\n",
              "      gap: 12px;\n",
              "    }\n",
              "\n",
              "    .colab-df-convert {\n",
              "      background-color: #E8F0FE;\n",
              "      border: none;\n",
              "      border-radius: 50%;\n",
              "      cursor: pointer;\n",
              "      display: none;\n",
              "      fill: #1967D2;\n",
              "      height: 32px;\n",
              "      padding: 0 0 0 0;\n",
              "      width: 32px;\n",
              "    }\n",
              "\n",
              "    .colab-df-convert:hover {\n",
              "      background-color: #E2EBFA;\n",
              "      box-shadow: 0px 1px 2px rgba(60, 64, 67, 0.3), 0px 1px 3px 1px rgba(60, 64, 67, 0.15);\n",
              "      fill: #174EA6;\n",
              "    }\n",
              "\n",
              "    [theme=dark] .colab-df-convert {\n",
              "      background-color: #3B4455;\n",
              "      fill: #D2E3FC;\n",
              "    }\n",
              "\n",
              "    [theme=dark] .colab-df-convert:hover {\n",
              "      background-color: #434B5C;\n",
              "      box-shadow: 0px 1px 3px 1px rgba(0, 0, 0, 0.15);\n",
              "      filter: drop-shadow(0px 1px 2px rgba(0, 0, 0, 0.3));\n",
              "      fill: #FFFFFF;\n",
              "    }\n",
              "  </style>\n",
              "\n",
              "      <script>\n",
              "        const buttonEl =\n",
              "          document.querySelector('#df-c2345af7-83f9-4db0-b39f-becb85ed94fc button.colab-df-convert');\n",
              "        buttonEl.style.display =\n",
              "          google.colab.kernel.accessAllowed ? 'block' : 'none';\n",
              "\n",
              "        async function convertToInteractive(key) {\n",
              "          const element = document.querySelector('#df-c2345af7-83f9-4db0-b39f-becb85ed94fc');\n",
              "          const dataTable =\n",
              "            await google.colab.kernel.invokeFunction('convertToInteractive',\n",
              "                                                     [key], {});\n",
              "          if (!dataTable) return;\n",
              "\n",
              "          const docLinkHtml = 'Like what you see? Visit the ' +\n",
              "            '<a target=\"_blank\" href=https://colab.research.google.com/notebooks/data_table.ipynb>data table notebook</a>'\n",
              "            + ' to learn more about interactive tables.';\n",
              "          element.innerHTML = '';\n",
              "          dataTable['output_type'] = 'display_data';\n",
              "          await google.colab.output.renderOutput(dataTable, element);\n",
              "          const docLink = document.createElement('div');\n",
              "          docLink.innerHTML = docLinkHtml;\n",
              "          element.appendChild(docLink);\n",
              "        }\n",
              "      </script>\n",
              "    </div>\n",
              "  </div>\n",
              "  "
            ]
          },
          "metadata": {},
          "execution_count": 10
        }
      ]
    },
    {
      "cell_type": "code",
      "source": [
        "# Find number of unique words\n",
        "# https://www.hackerrank.com/challenges/collections-counter/problem\n",
        "\n",
        "from collections import Counter\n",
        "\n",
        "def count_words(text_samples):\n",
        "  counter = Counter()\n",
        "  for sample in text_samples.values:\n",
        "    for word in sample.split():\n",
        "      counter[word] += 1\n",
        "  return counter\n",
        "\n",
        "counter = count_words(downsampled_data['Review_text'])"
      ],
      "metadata": {
        "id": "oaxqWrMeV8oQ"
      },
      "execution_count": 11,
      "outputs": []
    },
    {
      "cell_type": "code",
      "source": [
        "counter.most_common(5)"
      ],
      "metadata": {
        "colab": {
          "base_uri": "https://localhost:8080/"
        },
        "id": "GADzOxe-X-bE",
        "outputId": "7ce7157f-9a24-4d57-9e16-7ac7232c22b1"
      },
      "execution_count": 12,
      "outputs": [
        {
          "output_type": "execute_result",
          "data": {
            "text/plain": [
              "[('good', 5700),\n",
              " ('phone', 4655),\n",
              " ('product', 2838),\n",
              " ('quality', 2809),\n",
              " ('camera', 2806)]"
            ]
          },
          "metadata": {},
          "execution_count": 12
        }
      ]
    },
    {
      "cell_type": "code",
      "source": [
        "num_unique_words = len(counter)\n",
        "print(num_unique_words)"
      ],
      "metadata": {
        "colab": {
          "base_uri": "https://localhost:8080/"
        },
        "id": "EP9rLUkFZxzs",
        "outputId": "aaa57145-9aa8-4eba-ddac-dcb1da8b1cfc"
      },
      "execution_count": 13,
      "outputs": [
        {
          "output_type": "stream",
          "name": "stdout",
          "text": [
            "16777\n"
          ]
        }
      ]
    },
    {
      "cell_type": "code",
      "source": [
        "# Split into training, validataion and test samples \n",
        "\n",
        "num_train = int(downsampled_data.shape[0] * 0.75)\n",
        "num_val = int(downsampled_data.shape[0] * 0.15)\n",
        "num_test = int(downsampled_data.shape[0] * 0.10)\n",
        "\n",
        "X = downsampled_data.Review_text.to_numpy()\n",
        "y = downsampled_data.Own_Rating.to_numpy()\n",
        "\n",
        "from sklearn.utils import shuffle\n",
        "X, y = shuffle(X, y, random_state=0)\n",
        "\n",
        "X_train = X[0:num_train]\n",
        "X_test = X[num_train:(num_train + num_test)]\n",
        "X_val = X[(num_train + num_test):]\n",
        "\n",
        "from tensorflow.python.keras.utils import np_utils\n",
        "\n",
        "y = np_utils.to_categorical(y, 3)\n",
        "\n",
        "y_train = y[0:num_train]\n",
        "y_test = y[num_train:(num_train + num_test)]\n",
        "y_val = y[(num_train + num_test):]\n",
        "\n",
        "print(X_train)"
      ],
      "metadata": {
        "id": "RTR8Mkq5aA1Z",
        "colab": {
          "base_uri": "https://localhost:8080/"
        },
        "outputId": "6988d1fc-6528-483d-ea7a-77b7dc6fe265"
      },
      "execution_count": 14,
      "outputs": [
        {
          "output_type": "stream",
          "name": "stdout",
          "text": [
            "['everything phone good main issue battery backupit meets requirement heavy users'\n",
            " 'satisfied product value money' 'great' ...\n",
            " 'value money launched 8990 1 week prize dropped 7990' 'nice'\n",
            " '1st oneplus phoneand meet expectations']\n"
          ]
        }
      ]
    },
    {
      "cell_type": "code",
      "source": [
        "# Use Tokenizer to transform text integer sequences\n",
        "\n",
        "from tensorflow.keras.preprocessing.text import Tokenizer\n",
        "\n",
        "tokenizer = Tokenizer(num_words=num_unique_words)\n",
        "tokenizer.fit_on_texts(X_train)\n",
        "X = np.concatenate([X_train, X_test, X_val], axis=0)\n",
        "X = tokenizer.texts_to_sequences(X)\n",
        "X_train = X[0:num_train]\n",
        "X_test = X[num_train:(num_train + num_test)]\n",
        "X_val = X[(num_train + num_test):]"
      ],
      "metadata": {
        "id": "uI_JDo8qbnz-"
      },
      "execution_count": 15,
      "outputs": []
    },
    {
      "cell_type": "code",
      "source": [
        "# To make all entries the same length we do padding \n",
        "from tensorflow.keras.preprocessing.sequence import pad_sequences\n",
        "\n",
        "MAX_LEN = 40\n",
        "\n",
        "X_train_padded = pad_sequences(X_train, maxlen=MAX_LEN, padding='post', truncating='post')\n",
        "X_test_padded = pad_sequences(X_test, maxlen=MAX_LEN, padding='post', truncating='post')\n",
        "X_val_padded = pad_sequences(X_val, maxlen=MAX_LEN, padding='post', truncating='post')"
      ],
      "metadata": {
        "id": "kFxhjstOdND3"
      },
      "execution_count": 16,
      "outputs": []
    },
    {
      "cell_type": "code",
      "source": [
        "# https://datascience.stackexchange.com/questions/48246/how-to-compute-f1-in-tensorflow\n",
        "\n",
        "import keras.backend as K\n",
        "\n",
        "def f1_metric(y_true, y_pred):\n",
        "    true_positives = K.sum(K.round(K.clip(y_true * y_pred, 0, 1)))\n",
        "    possible_positives = K.sum(K.round(K.clip(y_true, 0, 1)))\n",
        "    predicted_positives = K.sum(K.round(K.clip(y_pred, 0, 1)))\n",
        "    precision = true_positives / (predicted_positives + K.epsilon())\n",
        "    recall = true_positives / (possible_positives + K.epsilon())\n",
        "    f1_val = 2*(precision*recall)/(precision+recall+K.epsilon())\n",
        "    return f1_val"
      ],
      "metadata": {
        "id": "5t3cUosQUegS"
      },
      "execution_count": 17,
      "outputs": []
    },
    {
      "cell_type": "code",
      "source": [
        "# https://www.tensorflow.org/text/tutorials/text_classification_rnn\n",
        "import keras \n",
        "\n",
        "lr_list = [4e-4]\n",
        "num_nodes_in_dense = [20, 40, 80]\n",
        "embedding_output = [10]\n",
        "lstm_list = [8]\n",
        "results = []\n",
        "indces = []\n",
        "\n",
        "EPOCHS = 6\n",
        "BATCH_SIZE = 10\n",
        "\n",
        "for lr in lr_list:\n",
        "  for nodes in num_nodes_in_dense:\n",
        "    for emb in embedding_output:\n",
        "      for lstm in lstm_list:\n",
        "        model = tf.keras.models.Sequential()\n",
        "        model.add(tf.keras.layers.Embedding(num_unique_words, emb, input_length=MAX_LEN))\n",
        "        model.add(tf.keras.layers.LSTM(lstm))\n",
        "        model.add(tf.keras.layers.Dense(nodes, activation='relu'))\n",
        "        model.add(tf.keras.layers.Dense(3, activation='sigmoid'))\n",
        "\n",
        "        model.compile(\n",
        "          loss='categorical_crossentropy', \n",
        "          optimizer=tf.keras.optimizers.Adam(learning_rate=lr), \n",
        "          metrics=[f1_metric, 'accuracy']\n",
        "          )\n",
        "\n",
        "        result = model.fit(\n",
        "          X_train_padded, \n",
        "          y_train,\n",
        "          shuffle=True,\n",
        "          epochs=EPOCHS,\n",
        "          validation_data=(X_val_padded, y_val),\n",
        "          batch_size=BATCH_SIZE\n",
        "          )\n",
        "        results.append(result)\n",
        "        print('Parameters: ', [lr, nodes, emb, lstm])\n",
        "        indces.append([lr, nodes, emb, lstm])"
      ],
      "metadata": {
        "id": "vPKnJ8Fxn1ZF"
      },
      "execution_count": null,
      "outputs": []
    },
    {
      "cell_type": "code",
      "source": [
        "i = 0\n",
        "f1 = 0\n",
        "max_i = 0\n",
        "for result in results:\n",
        "  if result.history['val_f1_metric'][-1] > f1:\n",
        "    f1 = result.history['val_f1_metric'][-1]\n",
        "    max_i = i\n",
        "  i += 1"
      ],
      "metadata": {
        "id": "K0laUo0InPUs"
      },
      "execution_count": 26,
      "outputs": []
    },
    {
      "cell_type": "code",
      "source": [
        "print('f1: ', f1)\n",
        "print('Index parameters: ', max_i)\n",
        "print('Parameters: ', indces[max_i])"
      ],
      "metadata": {
        "id": "O4420rDcoJc_"
      },
      "execution_count": null,
      "outputs": []
    },
    {
      "cell_type": "code",
      "source": [
        "[lr, nodes, emb, lstm] = indces[max_i]\n",
        "\n",
        "model = tf.keras.models.Sequential()\n",
        "model.add(tf.keras.layers.Embedding(num_unique_words, emb, input_length=MAX_LEN))\n",
        "model.add(tf.keras.layers.LSTM(lstm))\n",
        "model.add(tf.keras.layers.Dense(nodes, activation='relu'))\n",
        "model.add(tf.keras.layers.Dense(3, activation='sigmoid'))\n",
        "\n",
        "model.compile(\n",
        "  loss='categorical_crossentropy', \n",
        "  optimizer=tf.keras.optimizers.Adam(learning_rate=lr), \n",
        "  metrics=[f1_metric, 'accuracy']\n",
        "  )\n",
        "\n",
        "result = model.fit(\n",
        "  X_train_padded, \n",
        "  y_train,\n",
        "  shuffle=True,\n",
        "  epochs=EPOCHS,\n",
        "  validation_data=(X_val_padded, y_val),\n",
        "  batch_size=BATCH_SIZE\n",
        "  )"
      ],
      "metadata": {
        "id": "UhIiuKYnpIRw"
      },
      "execution_count": null,
      "outputs": []
    },
    {
      "cell_type": "code",
      "source": [
        "model.evaluate(X_test_padded, y_test)"
      ],
      "metadata": {
        "colab": {
          "base_uri": "https://localhost:8080/"
        },
        "id": "a6BW1jj31mUH",
        "outputId": "64fc2df2-5747-44e1-e0c1-624248b7ad4d"
      },
      "execution_count": 23,
      "outputs": [
        {
          "output_type": "stream",
          "name": "stdout",
          "text": [
            "41/41 [==============================] - 0s 4ms/step - loss: 0.9469 - f1_metric: 0.6371 - accuracy: 0.6142\n"
          ]
        },
        {
          "output_type": "execute_result",
          "data": {
            "text/plain": [
              "[0.9469155669212341, 0.6371011137962341, 0.6142092943191528]"
            ]
          },
          "metadata": {},
          "execution_count": 23
        }
      ]
    },
    {
      "cell_type": "markdown",
      "source": [
        ""
      ],
      "metadata": {
        "id": "-LekqzqC2cyF"
      }
    }
  ]
}